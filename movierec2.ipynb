{
 "cells": [
  {
   "cell_type": "code",
   "execution_count": 1,
   "id": "151cb318-176c-4bcb-b03c-0aa44918b05c",
   "metadata": {},
   "outputs": [],
   "source": [
    "import pandas as pd"
   ]
  },
  {
   "cell_type": "code",
   "execution_count": 2,
   "id": "813a507c-445d-4ad9-96c8-d36b2ade3759",
   "metadata": {},
   "outputs": [],
   "source": [
    "df=pd.read_csv(\"moviedata.csv\")"
   ]
  },
  {
   "cell_type": "code",
   "execution_count": 3,
   "id": "6f39fc76-53a9-4dec-950f-a1f67e922820",
   "metadata": {},
   "outputs": [
    {
     "data": {
      "text/plain": [
       "(6101, 22)"
      ]
     },
     "execution_count": 3,
     "metadata": {},
     "output_type": "execute_result"
    }
   ],
   "source": [
    "df.shape"
   ]
  },
  {
   "cell_type": "code",
   "execution_count": 4,
   "id": "b7eb548e-2862-4f55-9fbb-5f7ba3f673b0",
   "metadata": {},
   "outputs": [
    {
     "data": {
      "text/plain": [
       "cast                     0\n",
       "crew                     0\n",
       "id                       0\n",
       "keywords                 0\n",
       "adult                    0\n",
       "belongs_to_collection    0\n",
       "budget                   0\n",
       "genres                   0\n",
       "imdb_id                  0\n",
       "original_language        0\n",
       "original_title           0\n",
       "overview                 0\n",
       "popularity               0\n",
       "production_companies     0\n",
       "production_countries     0\n",
       "revenue                  0\n",
       "runtime                  0\n",
       "spoken_languages         0\n",
       "title                    0\n",
       "vote_average             0\n",
       "vote_count               0\n",
       "tags                     0\n",
       "dtype: int64"
      ]
     },
     "execution_count": 4,
     "metadata": {},
     "output_type": "execute_result"
    }
   ],
   "source": [
    "df.isna().sum()"
   ]
  },
  {
   "cell_type": "code",
   "execution_count": 5,
   "id": "8a3a3b1f-42cd-42c1-af35-282f46f41f18",
   "metadata": {},
   "outputs": [],
   "source": [
    "new_df=df.drop([\"production_countries\",\"production_companies\",\"adult\",\"belongs_to_collection\",\"crew\",\"spoken_languages\",\"title\"],axis=1,errors=\"ignore\")"
   ]
  },
  {
   "cell_type": "code",
   "execution_count": 6,
   "id": "a3cc059a-29d8-4737-acbc-fa5baf6da24e",
   "metadata": {},
   "outputs": [
    {
     "data": {
      "text/plain": [
       "(6101, 15)"
      ]
     },
     "execution_count": 6,
     "metadata": {},
     "output_type": "execute_result"
    }
   ],
   "source": [
    "new_df.shape"
   ]
  },
  {
   "cell_type": "code",
   "execution_count": 7,
   "id": "867f6194-9fa0-4c4c-a491-07e69e973691",
   "metadata": {},
   "outputs": [
    {
     "data": {
      "text/plain": [
       "0       [{'cast_id': 14, 'character': 'Woody (voice)',...\n",
       "1       [{'cast_id': 1, 'character': 'Alan Parrish', '...\n",
       "2       [{'cast_id': 1, 'character': 'George Banks', '...\n",
       "3       [{'cast_id': 25, 'character': 'Lt. Vincent Han...\n",
       "4       [{'cast_id': 1, 'character': 'Linus Larrabee',...\n",
       "                              ...                        \n",
       "6096    [{'cast_id': 2, 'character': 'Ebba', 'credit_i...\n",
       "6097    [{'cast_id': 0, 'character': 'Reaz', 'credit_i...\n",
       "6098    [{'cast_id': 2, 'character': 'Le comte Godefro...\n",
       "6099                                                   []\n",
       "6100    [{'cast_id': 1, 'character': 'Kelly Collins', ...\n",
       "Name: cast, Length: 6101, dtype: object"
      ]
     },
     "execution_count": 7,
     "metadata": {},
     "output_type": "execute_result"
    }
   ],
   "source": [
    "new_df['cast']"
   ]
  },
  {
   "cell_type": "code",
   "execution_count": 8,
   "id": "941d9622-a27e-48d6-92f2-79272e0b218e",
   "metadata": {},
   "outputs": [
    {
     "data": {
      "text/plain": [
       "cast                 0\n",
       "id                   0\n",
       "keywords             0\n",
       "budget               0\n",
       "genres               0\n",
       "imdb_id              0\n",
       "original_language    0\n",
       "original_title       0\n",
       "overview             0\n",
       "popularity           0\n",
       "revenue              0\n",
       "runtime              0\n",
       "vote_average         0\n",
       "vote_count           0\n",
       "tags                 0\n",
       "dtype: int64"
      ]
     },
     "execution_count": 8,
     "metadata": {},
     "output_type": "execute_result"
    }
   ],
   "source": [
    "new_df.isnull().sum()"
   ]
  },
  {
   "cell_type": "code",
   "execution_count": 9,
   "id": "f8183c57-ef07-4358-a775-dfea80820497",
   "metadata": {},
   "outputs": [],
   "source": [
    "genre_weight = 3\n",
    "language_weight = 2\n",
    "overview_weight = 1\n",
    "\n",
    "new_df['combined'] = (\n",
    "    (new_df['genres'].fillna('') + \" \") * genre_weight +\n",
    "    (new_df['original_language'].fillna('') + \" \") * language_weight +\n",
    "    (new_df['overview'].fillna('') + \" \") * overview_weight \n",
    ")\n"
   ]
  },
  {
   "cell_type": "code",
   "execution_count": 10,
   "id": "e700dcec-2ffb-4c52-8ad1-8f44be9a75c3",
   "metadata": {},
   "outputs": [],
   "source": [
    "from sklearn.metrics.pairwise import cosine_similarity"
   ]
  },
  {
   "cell_type": "code",
   "execution_count": 11,
   "id": "37167c2c-7c66-4874-beea-6be129036b70",
   "metadata": {},
   "outputs": [],
   "source": [
    "from sentence_transformers import SentenceTransformer\n",
    "\n",
    "model = SentenceTransformer('distiluse-base-multilingual-cased-v2')\n",
    "embeddings = model.encode(new_df['combined'].tolist(), show_progress_bar=False)\n",
    "similarity = cosine_similarity(embeddings)"
   ]
  },
  {
   "cell_type": "code",
   "execution_count": 12,
   "id": "81d75551-8705-4974-aa0a-12fa7cc51408",
   "metadata": {},
   "outputs": [],
   "source": [
    "def recommend(movie):\n",
    "    movie=movie.lower()\n",
    "    if movie not in new_df[\"original_title\"].str.lower().values:\n",
    "        return \"movie not found in dataset\"\n",
    "\n",
    "\n",
    "    index=new_df[new_df[\"original_title\"].str.lower()==movie].index[0]\n",
    "    distances=list(enumerate(similarity[index]))\n",
    "    movies=sorted(distances, key=lambda x: x[1], reverse=True)[1:6]\n",
    "\n",
    "    for i in movies:\n",
    "        print(f\"{new_df.iloc[i[0]]['original_title']} - similarity: {i[1]:.2f}\")"
   ]
  },
  {
   "cell_type": "code",
   "execution_count": 28,
   "id": "b8c953af-5fa4-4a6e-b291-44350969e75a",
   "metadata": {},
   "outputs": [
    {
     "name": "stdin",
     "output_type": "stream",
     "text": [
      "Enter movie name: star wars\n"
     ]
    },
    {
     "name": "stdout",
     "output_type": "stream",
     "text": [
      "The Empire Strikes Back - similarity: 0.81\n",
      "Return of the Jedi - similarity: 0.79\n",
      "Star Wars: The Force Awakens - similarity: 0.76\n",
      "Star Wars: Episode III - Revenge of the Sith - similarity: 0.75\n",
      "Star Wars: Episode II - Attack of the Clones - similarity: 0.72\n"
     ]
    }
   ],
   "source": [
    "movie=input(\"Enter movie name:\")\n",
    "recommend(movie)"
   ]
  },
  {
   "cell_type": "code",
   "execution_count": 44,
   "id": "c3f9e9bf-6984-4a3a-bdf0-de553f7fb2b8",
   "metadata": {},
   "outputs": [],
   "source": [
    "model.save(r\"C:\\Users\\arpit\\Movie recommender\\sentence_model_dir\")\n",
    "\n",
    "# Save similarity matrix and movies data as pickle (you can keep this as is)\n",
    "import pickle\n",
    "pickle.dump(similarity, open(r\"C:\\Users\\arpit\\Movie recommender\\similarity_matrix.pkl\", \"wb\"))\n",
    "pickle.dump(new_df, open(r\"C:\\Users\\arpit\\Movie recommender\\movies_data.pkl\", \"wb\"))"
   ]
  },
  {
   "cell_type": "code",
   "execution_count": null,
   "id": "a2e9e588-b279-426d-8f60-54ba58f35ecd",
   "metadata": {},
   "outputs": [],
   "source": []
  }
 ],
 "metadata": {
  "kernelspec": {
   "display_name": "Python [conda env:base] *",
   "language": "python",
   "name": "conda-base-py"
  },
  "language_info": {
   "codemirror_mode": {
    "name": "ipython",
    "version": 3
   },
   "file_extension": ".py",
   "mimetype": "text/x-python",
   "name": "python",
   "nbconvert_exporter": "python",
   "pygments_lexer": "ipython3",
   "version": "3.12.3"
  }
 },
 "nbformat": 4,
 "nbformat_minor": 5
}
